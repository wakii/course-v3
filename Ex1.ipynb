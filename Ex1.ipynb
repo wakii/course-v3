{
  "nbformat": 4,
  "nbformat_minor": 0,
  "metadata": {
    "kernelspec": {
      "name": "python3",
      "display_name": "Python 3"
    },
    "language_info": {
      "codemirror_mode": {
        "name": "ipython",
        "version": 3
      },
      "file_extension": ".py",
      "mimetype": "text/x-python",
      "name": "python",
      "nbconvert_exporter": "python",
      "pygments_lexer": "ipython3",
      "version": "3.7.4"
    },
    "colab": {
      "name": "Ex1.ipynb",
      "provenance": [],
      "include_colab_link": true
    },
    "accelerator": "GPU"
  },
  "cells": [
    {
      "cell_type": "markdown",
      "metadata": {
        "id": "view-in-github",
        "colab_type": "text"
      },
      "source": [
        "<a href=\"https://colab.research.google.com/github/wakii/course-v3/blob/master/Ex1.ipynb\" target=\"_parent\"><img src=\"https://colab.research.google.com/assets/colab-badge.svg\" alt=\"Open In Colab\"/></a>"
      ]
    },
    {
      "cell_type": "code",
      "metadata": {
        "id": "dtdfJh9IfDRo",
        "colab_type": "code",
        "colab": {
          "base_uri": "https://localhost:8080/",
          "height": 122
        },
        "outputId": "ca35cff4-0844-44a4-c85d-3d73f79987d6"
      },
      "source": [
        "from google.colab import drive\n",
        "drive.mount('/content/gdrive', force_remount=True)\n",
        "root_dir = \"/content/gdrive/My Drive/\"\n",
        "base_dir = root_dir + 'fastai-v3/'"
      ],
      "execution_count": 3,
      "outputs": [
        {
          "output_type": "stream",
          "text": [
            "Go to this URL in a browser: https://accounts.google.com/o/oauth2/auth?client_id=947318989803-6bn6qk8qdgf4n4g3pfee6491hc0brc4i.apps.googleusercontent.com&redirect_uri=urn%3aietf%3awg%3aoauth%3a2.0%3aoob&response_type=code&scope=email%20https%3a%2f%2fwww.googleapis.com%2fauth%2fdocs.test%20https%3a%2f%2fwww.googleapis.com%2fauth%2fdrive%20https%3a%2f%2fwww.googleapis.com%2fauth%2fdrive.photos.readonly%20https%3a%2f%2fwww.googleapis.com%2fauth%2fpeopleapi.readonly\n",
            "\n",
            "Enter your authorization code:\n",
            "··········\n",
            "Mounted at /content/gdrive\n"
          ],
          "name": "stdout"
        }
      ]
    },
    {
      "cell_type": "markdown",
      "metadata": {
        "id": "HCd0-BB3j8vR",
        "colab_type": "text"
      },
      "source": [
        "When you run the above cell to setting your own Google drive, go to the link, get authorization code for your drive."
      ]
    },
    {
      "cell_type": "code",
      "metadata": {
        "id": "eSYYusmXfDR3",
        "colab_type": "code",
        "outputId": "87742828-44e1-4134-bbbe-e1643536989c",
        "colab": {
          "base_uri": "https://localhost:8080/",
          "height": 51
        }
      },
      "source": [
        "!curl -s https://course.fast.ai/setup/colab | bash"
      ],
      "execution_count": 4,
      "outputs": [
        {
          "output_type": "stream",
          "text": [
            "Updating fastai...\n",
            "Done.\n"
          ],
          "name": "stdout"
        }
      ]
    },
    {
      "cell_type": "markdown",
      "metadata": {
        "id": "ngEHtdKwkQLK",
        "colab_type": "text"
      },
      "source": [
        "Above cells need to be wroten for your colab setting"
      ]
    },
    {
      "cell_type": "markdown",
      "metadata": {
        "id": "Y5SJ6fd0fDSE",
        "colab_type": "text"
      },
      "source": [
        "Since [the instructions](https://colab.research.google.com/github/wakii/course-v3/blob/master/nbs/dl1/00_notebook_tutorial.ipynb#scrollTo=dL1iKtPQBRnA) includes all explanations for the things you need to know, this page contains only results of what you yould try with the instructions."
      ]
    },
    {
      "cell_type": "markdown",
      "metadata": {
        "id": "rIY2kH4FfDSI",
        "colab_type": "text"
      },
      "source": [
        "# Section 1 : Need to Know"
      ]
    },
    {
      "cell_type": "markdown",
      "metadata": {
        "id": "xyVV_np2fDSL",
        "colab_type": "text"
      },
      "source": [
        "## Introduction"
      ]
    },
    {
      "cell_type": "code",
      "metadata": {
        "id": "PaS_iqtcfDSP",
        "colab_type": "code",
        "outputId": "4eb16e42-2164-40c6-b93b-3ac7c9b3c28c",
        "colab": {
          "base_uri": "https://localhost:8080/",
          "height": 34
        }
      },
      "source": [
        "1+1"
      ],
      "execution_count": 5,
      "outputs": [
        {
          "output_type": "execute_result",
          "data": {
            "text/plain": [
              "2"
            ]
          },
          "metadata": {
            "tags": []
          },
          "execution_count": 5
        }
      ]
    },
    {
      "cell_type": "markdown",
      "metadata": {
        "id": "Ae6IofvsfDSW",
        "colab_type": "text"
      },
      "source": [
        "## Writing"
      ]
    },
    {
      "cell_type": "markdown",
      "metadata": {
        "id": "6fxkAsDDfDSY",
        "colab_type": "text"
      },
      "source": [
        "My First markdown Cell"
      ]
    },
    {
      "cell_type": "code",
      "metadata": {
        "id": "-HR1vpS3fDSa",
        "colab_type": "code",
        "outputId": "6e9b0b56-54e7-4e35-ebef-e51daaed22bb",
        "colab": {
          "base_uri": "https://localhost:8080/",
          "height": 34
        }
      },
      "source": [
        "3/2"
      ],
      "execution_count": 6,
      "outputs": [
        {
          "output_type": "execute_result",
          "data": {
            "text/plain": [
              "1.5"
            ]
          },
          "metadata": {
            "tags": []
          },
          "execution_count": 6
        }
      ]
    },
    {
      "cell_type": "markdown",
      "metadata": {
        "id": "tCyJ5RDBfDSi",
        "colab_type": "text"
      },
      "source": [
        "# Section 2 : Going Deeper"
      ]
    },
    {
      "cell_type": "markdown",
      "metadata": {
        "id": "0UzelPDkfDSl",
        "colab_type": "text"
      },
      "source": [
        "- *Italic* \n",
        "- **Bold** \n",
        "- `inline` : You can put code here\n",
        "- >Blockquote : the contents in this block means quotes\n",
        "- [네이버](https://www.naver.com) : link to the naver.com"
      ]
    },
    {
      "cell_type": "markdown",
      "metadata": {
        "id": "CC4R1zzqfDSn",
        "colab_type": "text"
      },
      "source": [
        "# Level1\n",
        "## Level2\n",
        "### Level3\n",
        "#### Level4\n",
        "The lower levels are belongs to the higher levels"
      ]
    },
    {
      "cell_type": "markdown",
      "metadata": {
        "id": "bvyv2YGhfDSo",
        "colab_type": "text"
      },
      "source": [
        "## Ordered List\n",
        "1. Step1 : use numbers to order list(1,2,3 ...etc)\n",
        "    1. Step1A : press TAB to indent (showing A)\n",
        "    2. Step1A (showing B)\n",
        "        1. Step1B : press TAB Twice\n",
        "        2. Step1B \n",
        "2. Step2\n",
        "3. Step3"
      ]
    },
    {
      "cell_type": "markdown",
      "metadata": {
        "id": "eLqFm6SYfDSq",
        "colab_type": "text"
      },
      "source": [
        "## Unordered List\n",
        "- Press '-' to make unordered List\n",
        "- hey\n",
        "- ho"
      ]
    },
    {
      "cell_type": "markdown",
      "metadata": {
        "id": "byGd2FzBfDSs",
        "colab_type": "text"
      },
      "source": [
        "- [x]  checked task\n",
        "- [ ]  unchecked task"
      ]
    },
    {
      "cell_type": "markdown",
      "metadata": {
        "id": "PmTUccXvfDSu",
        "colab_type": "text"
      },
      "source": [
        "## Code Capabilites"
      ]
    },
    {
      "cell_type": "code",
      "metadata": {
        "id": "ySBC-v9ufDSw",
        "colab_type": "code",
        "colab": {}
      },
      "source": [
        "#Import necessary libraries\n",
        "from fastai.vision import *\n",
        "import matplotlib.pyplot as plt"
      ],
      "execution_count": 0,
      "outputs": []
    },
    {
      "cell_type": "code",
      "metadata": {
        "id": "gtNblGNffDS3",
        "colab_type": "code",
        "colab": {}
      },
      "source": [
        "from PIL import Image"
      ],
      "execution_count": 0,
      "outputs": []
    },
    {
      "cell_type": "code",
      "metadata": {
        "id": "hJPntoCwiEs2",
        "colab_type": "code",
        "colab": {
          "base_uri": "https://localhost:8080/",
          "height": 34
        },
        "outputId": "f112236d-97db-4166-bbbf-02cf5f11f7e4"
      },
      "source": [
        "a = 1\n",
        "b = a + 1\n",
        "c = b + a + 1\n",
        "d = c + b + a + 1\n",
        "a, b, c ,d"
      ],
      "execution_count": 10,
      "outputs": [
        {
          "output_type": "execute_result",
          "data": {
            "text/plain": [
              "(1, 2, 4, 8)"
            ]
          },
          "metadata": {
            "tags": []
          },
          "execution_count": 10
        }
      ]
    },
    {
      "cell_type": "code",
      "metadata": {
        "id": "YbXddzPdkghk",
        "colab_type": "code",
        "colab": {
          "base_uri": "https://localhost:8080/",
          "height": 265
        },
        "outputId": "72b4a9af-1319-42e5-a350-2a6aff58c375"
      },
      "source": [
        "plt.plot([a,b,c,d])\n",
        "plt.show()"
      ],
      "execution_count": 11,
      "outputs": [
        {
          "output_type": "display_data",
          "data": {
            "image/png": "[encoded data removed]",
            "text/plain": [
              "<Figure size 432x288 with 1 Axes>"
            ]
          },
          "metadata": {
            "tags": []
          }
        }
      ]
    },
    {
      "cell_type": "markdown",
      "metadata": {
        "id": "0Z_-Otl8kkVV",
        "colab_type": "text"
      },
      "source": [
        "plt is a library for displaying graphs easily."
      ]
    },
    {
      "cell_type": "code",
      "metadata": {
        "id": "km_2sdoYkqsp",
        "colab_type": "code",
        "colab": {
          "base_uri": "https://localhost:8080/",
          "height": 283
        },
        "outputId": "5d244364-3d5c-47dc-9e21-ee509d7b72b0"
      },
      "source": [
        "Image.open('images/notebook_tutorial/cat_example.jpg')"
      ],
      "execution_count": 12,
      "outputs": [
        {
          "output_type": "error",
          "ename": "FileNotFoundError",
          "evalue": "ignored",
          "traceback": [
            "\u001b[0;31m---------------------------------------------------------------------------\u001b[0m",
            "\u001b[0;31mFileNotFoundError\u001b[0m                         Traceback (most recent call last)",
            "\u001b[0;32m<ipython-input-12-a6d739aab8ba>\u001b[0m in \u001b[0;36m<module>\u001b[0;34m()\u001b[0m\n\u001b[0;32m----> 1\u001b[0;31m \u001b[0mImage\u001b[0m\u001b[0;34m.\u001b[0m\u001b[0mopen\u001b[0m\u001b[0;34m(\u001b[0m\u001b[0;34m'images/notebook_tutorial/cat_example.jpg'\u001b[0m\u001b[0;34m)\u001b[0m\u001b[0;34m\u001b[0m\u001b[0;34m\u001b[0m\u001b[0m\n\u001b[0m",
            "\u001b[0;32m/usr/local/lib/python3.6/dist-packages/PIL/Image.py\u001b[0m in \u001b[0;36mopen\u001b[0;34m(fp, mode)\u001b[0m\n\u001b[1;32m   2764\u001b[0m \u001b[0;34m\u001b[0m\u001b[0m\n\u001b[1;32m   2765\u001b[0m     \u001b[0;32mif\u001b[0m \u001b[0mfilename\u001b[0m\u001b[0;34m:\u001b[0m\u001b[0;34m\u001b[0m\u001b[0;34m\u001b[0m\u001b[0m\n\u001b[0;32m-> 2766\u001b[0;31m         \u001b[0mfp\u001b[0m \u001b[0;34m=\u001b[0m \u001b[0mbuiltins\u001b[0m\u001b[0;34m.\u001b[0m\u001b[0mopen\u001b[0m\u001b[0;34m(\u001b[0m\u001b[0mfilename\u001b[0m\u001b[0;34m,\u001b[0m \u001b[0;34m\"rb\"\u001b[0m\u001b[0;34m)\u001b[0m\u001b[0;34m\u001b[0m\u001b[0;34m\u001b[0m\u001b[0m\n\u001b[0m\u001b[1;32m   2767\u001b[0m         \u001b[0mexclusive_fp\u001b[0m \u001b[0;34m=\u001b[0m \u001b[0;32mTrue\u001b[0m\u001b[0;34m\u001b[0m\u001b[0;34m\u001b[0m\u001b[0m\n\u001b[1;32m   2768\u001b[0m \u001b[0;34m\u001b[0m\u001b[0m\n",
            "\u001b[0;31mFileNotFoundError\u001b[0m: [Errno 2] No such file or directory: 'images/notebook_tutorial/cat_example.jpg'"
          ]
        }
      ]
    },
    {
      "cell_type": "code",
      "metadata": {
        "id": "hb-JG4F7kvRI",
        "colab_type": "code",
        "colab": {}
      },
      "source": [
        ""
      ],
      "execution_count": 0,
      "outputs": []
    }
  ]
}